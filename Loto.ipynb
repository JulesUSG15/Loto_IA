{
 "cells": [
  {
   "cell_type": "markdown",
   "metadata": {},
   "source": [
    "# Création d'un model LSTM"
   ]
  },
  {
   "cell_type": "markdown",
   "metadata": {},
   "source": [
    "##  Importation des librairies "
   ]
  },
  {
   "cell_type": "code",
   "execution_count": 1,
   "metadata": {},
   "outputs": [
    {
     "name": "stderr",
     "output_type": "stream",
     "text": [
      "2024-04-02 22:42:02.160121: I tensorflow/core/platform/cpu_feature_guard.cc:182] This TensorFlow binary is optimized to use available CPU instructions in performance-critical operations.\n",
      "To enable the following instructions: AVX2 FMA, in other operations, rebuild TensorFlow with the appropriate compiler flags.\n"
     ]
    }
   ],
   "source": [
    "import pandas as pd\n",
    "import numpy as np\n",
    "from tensorflow.keras.utils import to_categorical\n",
    "from tensorflow.keras.models import Sequential\n",
    "from tensorflow.keras.layers import LSTM, Dense"
   ]
  },
  {
   "cell_type": "markdown",
   "metadata": {},
   "source": [
    "## Récupération des données "
   ]
  },
  {
   "cell_type": "code",
   "execution_count": 2,
   "metadata": {},
   "outputs": [
    {
     "name": "stdout",
     "output_type": "stream",
     "text": [
      "Index(['annee_numero_de_tirage', 'date_de_tirage', 'boule_1', 'boule_2',\n",
      "       'boule_3', 'boule_4', 'boule_5', 'numero_chance'],\n",
      "      dtype='object')\n"
     ]
    }
   ],
   "source": [
    "chemin_fichier_csv = 'loto.csv'\n",
    "\n",
    "df = pd.read_csv(chemin_fichier_csv, sep=';') \n",
    "\n",
    "print(df.columns)"
   ]
  },
  {
   "cell_type": "markdown",
   "metadata": {},
   "source": [
    "## Quelques statistiques sur la base de données"
   ]
  },
  {
   "cell_type": "code",
   "execution_count": 3,
   "metadata": {},
   "outputs": [
    {
     "name": "stdout",
     "output_type": "stream",
     "text": [
      "   annee_numero_de_tirage date_de_tirage  boule_1  boule_2  boule_3  boule_4  \\\n",
      "0                20244040     2024-04-01        9       17       15       12   \n",
      "1                20244039     2024-03-30       40       41       28        8   \n",
      "2                20244038     2024-03-27       28       45        2       15   \n",
      "3                20244037     2024-03-25       37        1       22       26   \n",
      "4                20244036     2024-03-23       47       49       20       34   \n",
      "\n",
      "   boule_5  numero_chance  \n",
      "0       26              8  \n",
      "1       42              2  \n",
      "2       23              7  \n",
      "3       31              5  \n",
      "4       32              1  \n",
      "<class 'pandas.core.frame.DataFrame'>\n",
      "RangeIndex: 2425 entries, 0 to 2424\n",
      "Data columns (total 8 columns):\n",
      " #   Column                  Non-Null Count  Dtype \n",
      "---  ------                  --------------  ----- \n",
      " 0   annee_numero_de_tirage  2425 non-null   int64 \n",
      " 1   date_de_tirage          2425 non-null   object\n",
      " 2   boule_1                 2425 non-null   int64 \n",
      " 3   boule_2                 2425 non-null   int64 \n",
      " 4   boule_3                 2425 non-null   int64 \n",
      " 5   boule_4                 2425 non-null   int64 \n",
      " 6   boule_5                 2425 non-null   int64 \n",
      " 7   numero_chance           2425 non-null   int64 \n",
      "dtypes: int64(7), object(1)\n",
      "memory usage: 151.7+ KB\n",
      "None\n",
      "annee_numero_de_tirage    0\n",
      "date_de_tirage            0\n",
      "boule_1                   0\n",
      "boule_2                   0\n",
      "boule_3                   0\n",
      "boule_4                   0\n",
      "boule_5                   0\n",
      "numero_chance             0\n",
      "dtype: int64\n",
      "       annee_numero_de_tirage      boule_1      boule_2      boule_3  \\\n",
      "count            2.425000e+03  2425.000000  2425.000000  2425.000000   \n",
      "mean             7.043289e+06    25.138144    25.111753    24.706804   \n",
      "std              8.141377e+06    14.152731    14.188539    14.192927   \n",
      "min              2.008081e+06     1.000000     1.000000     1.000000   \n",
      "25%              2.012100e+06    13.000000    13.000000    12.000000   \n",
      "50%              2.016080e+06    25.000000    25.000000    25.000000   \n",
      "75%              2.020004e+07    37.000000    38.000000    37.000000   \n",
      "max              2.024404e+07    49.000000    49.000000    49.000000   \n",
      "\n",
      "           boule_4      boule_5  numero_chance  \n",
      "count  2425.000000  2425.000000    2425.000000  \n",
      "mean     24.875876    25.107216       5.507629  \n",
      "std      13.940610    14.158901       2.890330  \n",
      "min       1.000000     1.000000       1.000000  \n",
      "25%      13.000000    13.000000       3.000000  \n",
      "50%      25.000000    25.000000       5.000000  \n",
      "75%      37.000000    38.000000       8.000000  \n",
      "max      49.000000    49.000000      10.000000  \n"
     ]
    }
   ],
   "source": [
    "print(df.head())\n",
    "print(df.info())\n",
    "print(df.isnull().sum())\n",
    "print(df.describe())"
   ]
  },
  {
   "cell_type": "markdown",
   "metadata": {},
   "source": [
    "## Convertir les colonnes de dates"
   ]
  },
  {
   "cell_type": "code",
   "execution_count": 4,
   "metadata": {},
   "outputs": [
    {
     "name": "stdout",
     "output_type": "stream",
     "text": [
      "<class 'pandas.core.frame.DataFrame'>\n",
      "RangeIndex: 2425 entries, 0 to 2424\n",
      "Data columns (total 8 columns):\n",
      " #   Column                  Non-Null Count  Dtype         \n",
      "---  ------                  --------------  -----         \n",
      " 0   annee_numero_de_tirage  2425 non-null   int64         \n",
      " 1   date_de_tirage          2425 non-null   datetime64[ns]\n",
      " 2   boule_1                 2425 non-null   int64         \n",
      " 3   boule_2                 2425 non-null   int64         \n",
      " 4   boule_3                 2425 non-null   int64         \n",
      " 5   boule_4                 2425 non-null   int64         \n",
      " 6   boule_5                 2425 non-null   int64         \n",
      " 7   numero_chance           2425 non-null   int64         \n",
      "dtypes: datetime64[ns](1), int64(7)\n",
      "memory usage: 151.7 KB\n",
      "None\n"
     ]
    }
   ],
   "source": [
    "df['date_de_tirage'] = pd.to_datetime(df['date_de_tirage'])\n",
    "print(df.info())"
   ]
  },
  {
   "cell_type": "markdown",
   "metadata": {},
   "source": [
    "## Nettoyage des colonnes numériques"
   ]
  },
  {
   "cell_type": "code",
   "execution_count": 5,
   "metadata": {},
   "outputs": [
    {
     "name": "stdout",
     "output_type": "stream",
     "text": [
      "boule_1          int64\n",
      "boule_2          int64\n",
      "boule_3          int64\n",
      "boule_4          int64\n",
      "boule_5          int64\n",
      "numero_chance    int64\n",
      "dtype: object\n"
     ]
    }
   ],
   "source": [
    "num_columns = ['boule_1', 'boule_2', 'boule_3', 'boule_4', 'boule_5', 'numero_chance']\n",
    "\n",
    "for col in num_columns:\n",
    "    df[col] = df[col].astype(int)\n",
    "\n",
    "print(df[num_columns].dtypes)"
   ]
  },
  {
   "cell_type": "markdown",
   "metadata": {},
   "source": [
    "## Traitement des valeurs manquantes"
   ]
  },
  {
   "cell_type": "code",
   "execution_count": 6,
   "metadata": {},
   "outputs": [],
   "source": [
    "# Pour la colonne 'numero_chance', par exemple\n",
    "df['numero_chance'] = df['numero_chance'].fillna(df['numero_chance'].median())\n",
    "\n",
    "# Supprimer les lignes où au moins un élément est manquant\n",
    "df.dropna(inplace=True)"
   ]
  },
  {
   "cell_type": "markdown",
   "metadata": {},
   "source": [
    "## Préparation des données"
   ]
  },
  {
   "cell_type": "code",
   "execution_count": 7,
   "metadata": {},
   "outputs": [],
   "source": [
    "# Supposons que `df` est votre DataFrame Pandas contenant les tirages du loto\n",
    "# Convertissons cela en un tableau numpy pour simplifier l'exemple\n",
    "data = df[['boule_1', 'boule_2', 'boule_3', 'boule_4', 'boule_5', 'numero_chance']].to_numpy()\n",
    "\n",
    "# Création des séquences (exemple simple)\n",
    "X = []\n",
    "y = []\n",
    "for i in range(len(data) - 1):\n",
    "    X.append(data[i])\n",
    "    y.append(data[i + 1])\n",
    "\n",
    "X = np.array(X)\n",
    "y = np.array(y)\n",
    "\n",
    "# Pour cet exemple, nous n'appliquons pas de catégorisation one-hot sur `y` \n",
    "# car cela dépendrait du nombre maximal possible pour chaque boule/numéro.\n"
   ]
  },
  {
   "cell_type": "markdown",
   "metadata": {},
   "source": [
    "## Modélisation"
   ]
  },
  {
   "cell_type": "code",
   "execution_count": 8,
   "metadata": {},
   "outputs": [],
   "source": [
    "# Nombre de caractéristiques (le nombre de boules par tirage)\n",
    "n_features = X.shape[1]\n",
    "\n",
    "# Définition du modèle LSTM\n",
    "model = Sequential([\n",
    "    LSTM(50, activation='relu', input_shape=(1, n_features)),\n",
    "    Dense(n_features)\n",
    "])\n",
    "\n",
    "model.compile(optimizer='adam', loss='mse')\n"
   ]
  },
  {
   "cell_type": "markdown",
   "metadata": {},
   "source": [
    "## Formation du modèle"
   ]
  },
  {
   "cell_type": "code",
   "execution_count": 9,
   "metadata": {},
   "outputs": [
    {
     "data": {
      "text/plain": [
       "<keras.src.callbacks.History at 0x1641b9850>"
      ]
     },
     "execution_count": 9,
     "metadata": {},
     "output_type": "execute_result"
    }
   ],
   "source": [
    "X = X.reshape((X.shape[0], 1, X.shape[1]))\n",
    "\n",
    "# Entraînement du modèle\n",
    "model.fit(X, y, epochs=200, verbose=0)\n"
   ]
  },
  {
   "cell_type": "markdown",
   "metadata": {},
   "source": [
    "## Évaluation du modèle"
   ]
  },
  {
   "cell_type": "code",
   "execution_count": 10,
   "metadata": {},
   "outputs": [
    {
     "name": "stdout",
     "output_type": "stream",
     "text": [
      "1/1 [==============================] - 0s 187ms/step\n",
      "[[30.201904 23.7052   25.47495  28.7322   26.10588   5.785817]]\n"
     ]
    }
   ],
   "source": [
    "# Génération d'une prédiction\n",
    "predicted = model.predict(X[-1].reshape((1, 1, n_features)))\n",
    "print(predicted)\n"
   ]
  }
 ],
 "metadata": {
  "kernelspec": {
   "display_name": "base",
   "language": "python",
   "name": "python3"
  },
  "language_info": {
   "codemirror_mode": {
    "name": "ipython",
    "version": 3
   },
   "file_extension": ".py",
   "mimetype": "text/x-python",
   "name": "python",
   "nbconvert_exporter": "python",
   "pygments_lexer": "ipython3",
   "version": "3.11.4"
  }
 },
 "nbformat": 4,
 "nbformat_minor": 2
}
